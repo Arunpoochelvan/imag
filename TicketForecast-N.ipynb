{
 "cells": [
  {
   "cell_type": "code",
   "execution_count": 1,
   "metadata": {
    "collapsed": true
   },
   "outputs": [],
   "source": [
    "import numpy as np\n",
    "import pandas as pd\n",
    "import pickle\n",
    "%matplotlib inline"
   ]
  },
  {
   "cell_type": "code",
   "execution_count": 2,
   "metadata": {
    "collapsed": false
   },
   "outputs": [],
   "source": [
    "with open(\"model.pkl\",'rb') as file:\n",
    "    model = pickle.load(file)"
   ]
  },
  {
   "cell_type": "code",
   "execution_count": 3,
   "metadata": {
    "collapsed": false
   },
   "outputs": [],
   "source": [
    "forecast, stderr, conf = pd.Series(model.forecast(steps=12,alpha=0.05))"
   ]
  },
  {
   "cell_type": "code",
   "execution_count": 4,
   "metadata": {
    "collapsed": false
   },
   "outputs": [],
   "source": [
    "dfconf = pd.DataFrame(conf).reset_index()\n",
    "dfconf.columns = ['Date', 'Upper_Value', 'Lower_Value']\n",
    "dfconf['Upper_Value'] = np.exp(dfconf['Upper_Value']).apply(int)\n",
    "dfconf['Lower_Value'] = np.exp(dfconf['Lower_Value']).apply(int)"
   ]
  },
  {
   "cell_type": "code",
   "execution_count": 5,
   "metadata": {
    "collapsed": true
   },
   "outputs": [],
   "source": [
    "date_dict = {0:\"30-Jun-2018\",\n",
    "            1:\"31-Jul-2018\",\n",
    "            2:\"31-Aug-2018\",\n",
    "            3:\"30-Sep-2018\",\n",
    "            4:\"31-Oct-2018\",\n",
    "            5:\"30-Nov-2018\",\n",
    "            6:\"31-Dec-2018\",\n",
    "            7:\"31-Jan-2019\",\n",
    "            8:\"28-Feb-2019\",\n",
    "            9:\"31-Mar-2019\",\n",
    "            10:\"30-Apr-2019\",\n",
    "            11:\"31-May-2019\"}"
   ]
  },
  {
   "cell_type": "code",
   "execution_count": 6,
   "metadata": {
    "collapsed": false
   },
   "outputs": [
    {
     "data": {
      "text/html": [
       "<div>\n",
       "<style scoped>\n",
       "    .dataframe tbody tr th:only-of-type {\n",
       "        vertical-align: middle;\n",
       "    }\n",
       "\n",
       "    .dataframe tbody tr th {\n",
       "        vertical-align: top;\n",
       "    }\n",
       "\n",
       "    .dataframe thead th {\n",
       "        text-align: right;\n",
       "    }\n",
       "</style>\n",
       "<table border=\"1\" class=\"dataframe\">\n",
       "  <thead>\n",
       "    <tr style=\"text-align: right;\">\n",
       "      <th></th>\n",
       "      <th>Upper_Value</th>\n",
       "      <th>Lower_Value</th>\n",
       "      <th>Actual</th>\n",
       "    </tr>\n",
       "    <tr>\n",
       "      <th>Date</th>\n",
       "      <th></th>\n",
       "      <th></th>\n",
       "      <th></th>\n",
       "    </tr>\n",
       "  </thead>\n",
       "  <tbody>\n",
       "    <tr>\n",
       "      <th>30-Jun-2018</th>\n",
       "      <td>2672</td>\n",
       "      <td>3184</td>\n",
       "      <td>2877.0</td>\n",
       "    </tr>\n",
       "    <tr>\n",
       "      <th>31-Jul-2018</th>\n",
       "      <td>2608</td>\n",
       "      <td>3112</td>\n",
       "      <td>2730.0</td>\n",
       "    </tr>\n",
       "    <tr>\n",
       "      <th>31-Aug-2018</th>\n",
       "      <td>2739</td>\n",
       "      <td>3268</td>\n",
       "      <td>3072.0</td>\n",
       "    </tr>\n",
       "    <tr>\n",
       "      <th>30-Sep-2018</th>\n",
       "      <td>2798</td>\n",
       "      <td>3341</td>\n",
       "      <td>3306.0</td>\n",
       "    </tr>\n",
       "    <tr>\n",
       "      <th>31-Oct-2018</th>\n",
       "      <td>2662</td>\n",
       "      <td>3179</td>\n",
       "      <td>2836.0</td>\n",
       "    </tr>\n",
       "    <tr>\n",
       "      <th>30-Nov-2018</th>\n",
       "      <td>2602</td>\n",
       "      <td>3110</td>\n",
       "      <td>2713.0</td>\n",
       "    </tr>\n",
       "    <tr>\n",
       "      <th>31-Dec-2018</th>\n",
       "      <td>2730</td>\n",
       "      <td>3263</td>\n",
       "      <td>NaN</td>\n",
       "    </tr>\n",
       "    <tr>\n",
       "      <th>31-Jan-2019</th>\n",
       "      <td>2786</td>\n",
       "      <td>3332</td>\n",
       "      <td>NaN</td>\n",
       "    </tr>\n",
       "    <tr>\n",
       "      <th>28-Feb-2019</th>\n",
       "      <td>2653</td>\n",
       "      <td>3173</td>\n",
       "      <td>NaN</td>\n",
       "    </tr>\n",
       "    <tr>\n",
       "      <th>31-Mar-2019</th>\n",
       "      <td>2596</td>\n",
       "      <td>3108</td>\n",
       "      <td>NaN</td>\n",
       "    </tr>\n",
       "    <tr>\n",
       "      <th>30-Apr-2019</th>\n",
       "      <td>2721</td>\n",
       "      <td>3258</td>\n",
       "      <td>NaN</td>\n",
       "    </tr>\n",
       "    <tr>\n",
       "      <th>31-May-2019</th>\n",
       "      <td>2773</td>\n",
       "      <td>3323</td>\n",
       "      <td>NaN</td>\n",
       "    </tr>\n",
       "  </tbody>\n",
       "</table>\n",
       "</div>"
      ],
      "text/plain": [
       "             Upper_Value  Lower_Value  Actual\n",
       "Date                                         \n",
       "30-Jun-2018         2672         3184  2877.0\n",
       "31-Jul-2018         2608         3112  2730.0\n",
       "31-Aug-2018         2739         3268  3072.0\n",
       "30-Sep-2018         2798         3341  3306.0\n",
       "31-Oct-2018         2662         3179  2836.0\n",
       "30-Nov-2018         2602         3110  2713.0\n",
       "31-Dec-2018         2730         3263     NaN\n",
       "31-Jan-2019         2786         3332     NaN\n",
       "28-Feb-2019         2653         3173     NaN\n",
       "31-Mar-2019         2596         3108     NaN\n",
       "30-Apr-2019         2721         3258     NaN\n",
       "31-May-2019         2773         3323     NaN"
      ]
     },
     "execution_count": 6,
     "metadata": {},
     "output_type": "execute_result"
    }
   ],
   "source": [
    "dfconf.Date = dfconf.Date.map(date_dict)\n",
    "dfconf.set_index('Date',inplace=True)\n",
    "dfconf['Actual'] = pd.DataFrame([2877,2730,3072,3306,2836,2713,np.nan,np.nan,np.nan,np.nan,np.nan,np.nan],index=dfconf.index)\n",
    "dfconf"
   ]
  },
  {
   "cell_type": "code",
   "execution_count": 7,
   "metadata": {
    "collapsed": false
   },
   "outputs": [
    {
     "data": {
      "text/plain": [
       "<matplotlib.axes._subplots.AxesSubplot at 0xa114c88>"
      ]
     },
     "execution_count": 7,
     "metadata": {},
     "output_type": "execute_result"
    },
    {
     "data": {
      "image/png": "[encoded data removed]",
      "text/plain": [
       "<matplotlib.figure.Figure at 0x96bb630>"
      ]
     },
     "metadata": {},
     "output_type": "display_data"
    }
   ],
   "source": [
    "dfconf.plot()"
   ]
  },
  {
   "cell_type": "code",
   "execution_count": null,
   "metadata": {
    "collapsed": true
   },
   "outputs": [],
   "source": []
  }
 ],
 "metadata": {
  "kernelspec": {
   "display_name": "Python 3",
   "language": "python",
   "name": "python3"
  },
  "language_info": {
   "codemirror_mode": {
    "name": "ipython",
    "version": 3
   },
   "file_extension": ".py",
   "mimetype": "text/x-python",
   "name": "python",
   "nbconvert_exporter": "python",
   "pygments_lexer": "ipython3",
   "version": "3.6.5"
  }
 },
 "nbformat": 4,
 "nbformat_minor": 2
}
