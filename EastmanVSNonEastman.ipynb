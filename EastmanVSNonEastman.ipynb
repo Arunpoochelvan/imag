{
 "cells": [
  {
   "cell_type": "code",
   "execution_count": 1,
   "metadata": {},
   "outputs": [],
   "source": [
    "import pandas as pd\n",
    "import numpy as np\n",
    "import re, string, unicodedata\n",
    "import contractions\n",
    "import inflect\n",
    "from bs4 import BeautifulSoup\n",
    "from nltk import word_tokenize, sent_tokenize\n",
    "from nltk.corpus import stopwords\n",
    "from nltk.stem import LancasterStemmer, WordNetLemmatizer"
   ]
  },
  {
   "cell_type": "code",
   "execution_count": 2,
   "metadata": {},
   "outputs": [],
   "source": [
    "data = pd.read_csv('dual_wall_tumbler_reviews.csv')"
   ]
  },
  {
   "cell_type": "code",
   "execution_count": 3,
   "metadata": {},
   "outputs": [
    {
     "data": {
      "text/html": [
       "<div>\n",
       "<style scoped>\n",
       "    .dataframe tbody tr th:only-of-type {\n",
       "        vertical-align: middle;\n",
       "    }\n",
       "\n",
       "    .dataframe tbody tr th {\n",
       "        vertical-align: top;\n",
       "    }\n",
       "\n",
       "    .dataframe thead th {\n",
       "        text-align: right;\n",
       "    }\n",
       "</style>\n",
       "<table border=\"1\" class=\"dataframe\">\n",
       "  <thead>\n",
       "    <tr style=\"text-align: right;\">\n",
       "      <th></th>\n",
       "      <th>ReviewProduct</th>\n",
       "      <th>Material</th>\n",
       "      <th>CaptureDate</th>\n",
       "      <th>ReviewId</th>\n",
       "      <th>ReviewHelpfulYes</th>\n",
       "      <th>ReviewHelpfulNo</th>\n",
       "      <th>ReviewRating</th>\n",
       "      <th>ReviewBy</th>\n",
       "      <th>ReviewDate</th>\n",
       "      <th>ReviewTitle</th>\n",
       "      <th>ReviewText</th>\n",
       "    </tr>\n",
       "  </thead>\n",
       "  <tbody>\n",
       "    <tr>\n",
       "      <th>0</th>\n",
       "      <td>B0084IHVOS</td>\n",
       "      <td>Non-Eastman</td>\n",
       "      <td>24-04-2016 00:00</td>\n",
       "      <td>R11FSR4IZ5LZ5Z</td>\n",
       "      <td>0</td>\n",
       "      <td>0</td>\n",
       "      <td>5</td>\n",
       "      <td>zakia N chatman</td>\n",
       "      <td>05-05-2015 00:00</td>\n",
       "      <td>Five Stars</td>\n",
       "      <td>Love it</td>\n",
       "    </tr>\n",
       "    <tr>\n",
       "      <th>1</th>\n",
       "      <td>B0084IHVOS</td>\n",
       "      <td>Non-Eastman</td>\n",
       "      <td>24-04-2016 00:00</td>\n",
       "      <td>R11VQ0MB6BTIKU</td>\n",
       "      <td>0</td>\n",
       "      <td>0</td>\n",
       "      <td>5</td>\n",
       "      <td>EarlzMom</td>\n",
       "      <td>01-03-2015 00:00</td>\n",
       "      <td>love it !</td>\n",
       "      <td>love this cup, so large. I carry it everywhere...</td>\n",
       "    </tr>\n",
       "    <tr>\n",
       "      <th>2</th>\n",
       "      <td>B0084IHVOS</td>\n",
       "      <td>Non-Eastman</td>\n",
       "      <td>24-04-2016 00:00</td>\n",
       "      <td>R11WZ5U04NOLF3</td>\n",
       "      <td>0</td>\n",
       "      <td>0</td>\n",
       "      <td>5</td>\n",
       "      <td>Jassim</td>\n",
       "      <td>13-02-2015 00:00</td>\n",
       "      <td>Five Stars</td>\n",
       "      <td>Its really big lol</td>\n",
       "    </tr>\n",
       "    <tr>\n",
       "      <th>3</th>\n",
       "      <td>B0084IHVOS</td>\n",
       "      <td>Non-Eastman</td>\n",
       "      <td>24-04-2016 00:00</td>\n",
       "      <td>R12FI3W0ZGSIT3</td>\n",
       "      <td>0</td>\n",
       "      <td>0</td>\n",
       "      <td>2</td>\n",
       "      <td>vsnaryster</td>\n",
       "      <td>12-03-2015 00:00</td>\n",
       "      <td>Okay cup. Broken straw</td>\n",
       "      <td>The straw was broken and unusable.</td>\n",
       "    </tr>\n",
       "    <tr>\n",
       "      <th>4</th>\n",
       "      <td>B0084IHVOS</td>\n",
       "      <td>Non-Eastman</td>\n",
       "      <td>24-04-2016 00:00</td>\n",
       "      <td>R12MEF3RQEDZFD</td>\n",
       "      <td>0</td>\n",
       "      <td>0</td>\n",
       "      <td>5</td>\n",
       "      <td>Amazon Customer</td>\n",
       "      <td>24-12-2015 00:00</td>\n",
       "      <td>Thank You</td>\n",
       "      <td>Just what we ordered.  Perfect.</td>\n",
       "    </tr>\n",
       "  </tbody>\n",
       "</table>\n",
       "</div>"
      ],
      "text/plain": [
       "  ReviewProduct     Material       CaptureDate        ReviewId  \\\n",
       "0    B0084IHVOS  Non-Eastman  24-04-2016 00:00  R11FSR4IZ5LZ5Z   \n",
       "1    B0084IHVOS  Non-Eastman  24-04-2016 00:00  R11VQ0MB6BTIKU   \n",
       "2    B0084IHVOS  Non-Eastman  24-04-2016 00:00  R11WZ5U04NOLF3   \n",
       "3    B0084IHVOS  Non-Eastman  24-04-2016 00:00  R12FI3W0ZGSIT3   \n",
       "4    B0084IHVOS  Non-Eastman  24-04-2016 00:00  R12MEF3RQEDZFD   \n",
       "\n",
       "   ReviewHelpfulYes  ReviewHelpfulNo  ReviewRating         ReviewBy  \\\n",
       "0                 0                0             5  zakia N chatman   \n",
       "1                 0                0             5         EarlzMom   \n",
       "2                 0                0             5           Jassim   \n",
       "3                 0                0             2       vsnaryster   \n",
       "4                 0                0             5  Amazon Customer   \n",
       "\n",
       "         ReviewDate             ReviewTitle  \\\n",
       "0  05-05-2015 00:00              Five Stars   \n",
       "1  01-03-2015 00:00               love it !   \n",
       "2  13-02-2015 00:00              Five Stars   \n",
       "3  12-03-2015 00:00  Okay cup. Broken straw   \n",
       "4  24-12-2015 00:00               Thank You   \n",
       "\n",
       "                                          ReviewText  \n",
       "0                                            Love it  \n",
       "1  love this cup, so large. I carry it everywhere...  \n",
       "2                                 Its really big lol  \n",
       "3                 The straw was broken and unusable.  \n",
       "4                    Just what we ordered.  Perfect.  "
      ]
     },
     "execution_count": 3,
     "metadata": {},
     "output_type": "execute_result"
    }
   ],
   "source": [
    "data.head()"
   ]
  },
  {
   "cell_type": "code",
   "execution_count": 4,
   "metadata": {},
   "outputs": [
    {
     "data": {
      "text/html": [
       "<div>\n",
       "<style scoped>\n",
       "    .dataframe tbody tr th:only-of-type {\n",
       "        vertical-align: middle;\n",
       "    }\n",
       "\n",
       "    .dataframe tbody tr th {\n",
       "        vertical-align: top;\n",
       "    }\n",
       "\n",
       "    .dataframe thead th {\n",
       "        text-align: right;\n",
       "    }\n",
       "</style>\n",
       "<table border=\"1\" class=\"dataframe\">\n",
       "  <thead>\n",
       "    <tr style=\"text-align: right;\">\n",
       "      <th></th>\n",
       "      <th>ReviewHelpfulYes</th>\n",
       "      <th>ReviewHelpfulNo</th>\n",
       "      <th>ReviewRating</th>\n",
       "    </tr>\n",
       "  </thead>\n",
       "  <tbody>\n",
       "    <tr>\n",
       "      <th>count</th>\n",
       "      <td>1970.000000</td>\n",
       "      <td>1970.0</td>\n",
       "      <td>1970.000000</td>\n",
       "    </tr>\n",
       "    <tr>\n",
       "      <th>mean</th>\n",
       "      <td>0.456345</td>\n",
       "      <td>0.0</td>\n",
       "      <td>4.052284</td>\n",
       "    </tr>\n",
       "    <tr>\n",
       "      <th>std</th>\n",
       "      <td>3.071416</td>\n",
       "      <td>0.0</td>\n",
       "      <td>1.377025</td>\n",
       "    </tr>\n",
       "    <tr>\n",
       "      <th>min</th>\n",
       "      <td>0.000000</td>\n",
       "      <td>0.0</td>\n",
       "      <td>1.000000</td>\n",
       "    </tr>\n",
       "    <tr>\n",
       "      <th>25%</th>\n",
       "      <td>0.000000</td>\n",
       "      <td>0.0</td>\n",
       "      <td>3.000000</td>\n",
       "    </tr>\n",
       "    <tr>\n",
       "      <th>50%</th>\n",
       "      <td>0.000000</td>\n",
       "      <td>0.0</td>\n",
       "      <td>5.000000</td>\n",
       "    </tr>\n",
       "    <tr>\n",
       "      <th>75%</th>\n",
       "      <td>0.000000</td>\n",
       "      <td>0.0</td>\n",
       "      <td>5.000000</td>\n",
       "    </tr>\n",
       "    <tr>\n",
       "      <th>max</th>\n",
       "      <td>93.000000</td>\n",
       "      <td>0.0</td>\n",
       "      <td>5.000000</td>\n",
       "    </tr>\n",
       "  </tbody>\n",
       "</table>\n",
       "</div>"
      ],
      "text/plain": [
       "       ReviewHelpfulYes  ReviewHelpfulNo  ReviewRating\n",
       "count       1970.000000           1970.0   1970.000000\n",
       "mean           0.456345              0.0      4.052284\n",
       "std            3.071416              0.0      1.377025\n",
       "min            0.000000              0.0      1.000000\n",
       "25%            0.000000              0.0      3.000000\n",
       "50%            0.000000              0.0      5.000000\n",
       "75%            0.000000              0.0      5.000000\n",
       "max           93.000000              0.0      5.000000"
      ]
     },
     "execution_count": 4,
     "metadata": {},
     "output_type": "execute_result"
    }
   ],
   "source": [
    "data.describe()"
   ]
  },
  {
   "cell_type": "code",
   "execution_count": 5,
   "metadata": {},
   "outputs": [
    {
     "name": "stdout",
     "output_type": "stream",
     "text": [
      "<class 'pandas.core.frame.DataFrame'>\n",
      "RangeIndex: 1970 entries, 0 to 1969\n",
      "Data columns (total 11 columns):\n",
      "ReviewProduct       1970 non-null object\n",
      "Material            1970 non-null object\n",
      "CaptureDate         1970 non-null object\n",
      "ReviewId            1970 non-null object\n",
      "ReviewHelpfulYes    1970 non-null int64\n",
      "ReviewHelpfulNo     1970 non-null int64\n",
      "ReviewRating        1970 non-null int64\n",
      "ReviewBy            1970 non-null object\n",
      "ReviewDate          1970 non-null object\n",
      "ReviewTitle         1969 non-null object\n",
      "ReviewText          1970 non-null object\n",
      "dtypes: int64(3), object(8)\n",
      "memory usage: 169.4+ KB\n"
     ]
    }
   ],
   "source": [
    "data.info()"
   ]
  },
  {
   "cell_type": "code",
   "execution_count": 6,
   "metadata": {},
   "outputs": [],
   "source": [
    "useful_data = data.loc[:,['ReviewProduct','Material','ReviewRating','ReviewText']]"
   ]
  },
  {
   "cell_type": "code",
   "execution_count": 7,
   "metadata": {},
   "outputs": [
    {
     "data": {
      "text/plain": [
       "0                                                 Love it\n",
       "1       love this cup, so large. I carry it everywhere...\n",
       "2                                      Its really big lol\n",
       "3                      The straw was broken and unusable.\n",
       "4                         Just what we ordered.  Perfect.\n",
       "5       I love this cup and use it every day , no swea...\n",
       "6       I was super bummed because I was expected the ...\n",
       "7       This is a great re-usable cup that can hold a ...\n",
       "8       Keeps the drink colder for longer. However, it...\n",
       "9                                                    good\n",
       "10      These are NOT the double insulated cups that s...\n",
       "11      Transparent and extremely large size of the cu...\n",
       "12      purchased the cup and 4 straws as a bundle<br ...\n",
       "13      This is my favorite cup, keeps my water cold m...\n",
       "14                                                Love it\n",
       "15          wonderful.<br />Holds an entire canned drink.\n",
       "16      The cup does sweat a little bit if the drink h...\n",
       "17                I love the cup but it was disappointing\n",
       "18      Its starbucks quality, love it. Update 12/12/1...\n",
       "19      I use it for smoothies and only hand wash it. ...\n",
       "20                       Perfect- just like in Starbucks.\n",
       "21      I have tried hand washing and putting it in th...\n",
       "22                              Good product, good seller\n",
       "23      I believe I paid $20 for this item, now it's e...\n",
       "24                                        Love this cup!!\n",
       "25      I love this cup, it's durable and large and gr...\n",
       "26      I really love my cup, but my friend knocked it...\n",
       "27      LOVE this tumbler!  I have used it to make ice...\n",
       "28      I loved this at first...it was super handy and...\n",
       "29      I'm using it right now. Is the only think I wa...\n",
       "                              ...                        \n",
       "1940    In my quest to remember to drink more water, t...\n",
       "1941    My wife is into working out and making sure to...\n",
       "1942    I love Zak! Designs HydraTrak Insulated Tumble...\n",
       "1943    I've been a long time connesieur of Tervis, I ...\n",
       "1944    Do NOT buy this!  It comes with a hole in your...\n",
       "1945    I ordered this to help me be better about drin...\n",
       "1946    Time to chuck the old plastic water bottle, th...\n",
       "1947    I love mine!! Doesnt taste like plastic when y...\n",
       "1948    Love it!<br />Keeping track of how many times ...\n",
       "1949    This is a beautiful cup -- honestly it is quit...\n",
       "1950    I have other Zak! tumblers and I like them all...\n",
       "1951                                  Great water bottle!\n",
       "1952    Colored bands keep track of how many 20 oz bot...\n",
       "1953    Fantastic cup design. Easy to open and snap th...\n",
       "1954    This is a great water bottle. For one, it is d...\n",
       "1955    The Hydra Trak tumbler is supposed to make it ...\n",
       "1956    Love this cup. Very well built and great desig...\n",
       "1957    My mom has arthritis in her hands. Her lack of...\n",
       "1958    The bands are a neat addition. I don't know ho...\n",
       "1959    Right from the get go I knew this tumbler was ...\n",
       "1960                                                 Love\n",
       "1961    This tumbler is a really nice tumbler for what...\n",
       "1962    This Zaki Designs Hydra Trak Insulated Tumbler...\n",
       "1963    Excellent product. Keeps DRINK cold and love t...\n",
       "1964                   A little pricey but a neat concept\n",
       "1965    I'm in love with this. While I don't religious...\n",
       "1966    Best water bottle ever. I love the rings that ...\n",
       "1967    Just love this cup for keeping track of my dai...\n",
       "1968    &#34;Drinking water is healthy&#34;, is pretty...\n",
       "1969    Overall the Zak! Designs HydraTrak Tumbler is ...\n",
       "Name: ReviewText, Length: 1970, dtype: object"
      ]
     },
     "execution_count": 7,
     "metadata": {},
     "output_type": "execute_result"
    }
   ],
   "source": [
    "useful_data['ReviewText']"
   ]
  },
  {
   "cell_type": "code",
   "execution_count": 8,
   "metadata": {},
   "outputs": [],
   "source": [
    "def strip_html(text):\n",
    "    soup = BeautifulSoup(text, \"html.parser\")\n",
    "    return soup.get_text()\n",
    "\n",
    "def remove_between_square_brackets(text):\n",
    "    return re.sub('\\[[^]]*\\]', '', text)\n",
    "\n",
    "def furtherCleaning(text):\n",
    "    tokens = word_tokenize(text)\n",
    "    # convert to lower case\n",
    "    tokens = [w.lower() for w in tokens]\n",
    "    # remove punctuation from each word\n",
    "    import string\n",
    "    table = str.maketrans('', '', string.punctuation)\n",
    "    stripped = [w.translate(table) for w in tokens]\n",
    "    # remove remaining tokens that are not alphabetic\n",
    "    words = [word for word in stripped if word.isalpha()]\n",
    "    # filter out stop words\n",
    "    from nltk.corpus import stopwords\n",
    "    stop_words = set(stopwords.words('english'))\n",
    "    words = [w for w in words if not w in stop_words]\n",
    "    return ' '.join(words)\n",
    "\n",
    "def denoise_text(text):\n",
    "    text = strip_html(text)\n",
    "    text = remove_between_square_brackets(text)\n",
    "    text = furtherCleaning(text)\n",
    "    return text"
   ]
  },
  {
   "cell_type": "code",
   "execution_count": 9,
   "metadata": {},
   "outputs": [
    {
     "name": "stderr",
     "output_type": "stream",
     "text": [
      "c:\\reviews\\lib\\site-packages\\bs4\\__init__.py:335: UserWarning: \"http://smile.amazon.com/Cupture%C2%AE-Classic-Insulated-Tumbler-Reusable/dp/B00J5ASJS6?ie=UTF8&redirect=true&ref_=cm_cr_ryp_prd_ttl_sol_0\" looks like a URL. Beautiful Soup is not an HTTP client. You should probably use an HTTP client like requests to get the document behind the URL, and feed that document to Beautiful Soup.\n",
      "  ' that document to Beautiful Soup.' % decoded_markup\n"
     ]
    }
   ],
   "source": [
    "useful_data['ReviewText'] = useful_data['ReviewText'].apply(denoise_text)"
   ]
  },
  {
   "cell_type": "code",
   "execution_count": 10,
   "metadata": {},
   "outputs": [
    {
     "data": {
      "text/plain": [
       "0                                                    love\n",
       "1       love cup large carry everywhere keeps water co...\n",
       "2                                          really big lol\n",
       "3                                   straw broken unusable\n",
       "4                                         ordered perfect\n",
       "5       love cup use every day sweating handy sturdy w...\n",
       "6       super bummed expected double insulated cup all...\n",
       "7       great reusable cup hold lot drink put buy chea...\n",
       "8       keeps drink colder longer however coffee cup f...\n",
       "9                                                    good\n",
       "10      double insulated cups separate nice enough exa...\n",
       "11      transparent extremely large size cup likedi ch...\n",
       "12      purchased cup straws bundleitems ordered price...\n",
       "13         favorite cup keeps water cold day use everyday\n",
       "14                                                   love\n",
       "15                     wonderfulholds entire canned drink\n",
       "16      cup sweat little bit drink lot ice deal breake...\n",
       "17                                 love cup disappointing\n",
       "18      starbucks quality love update cup leaks never ...\n",
       "19      use smoothies hand wash months still worked gr...\n",
       "20                                 perfect like starbucks\n",
       "21      tried hand washing putting dishwasher still co...\n",
       "22                               good product good seller\n",
       "23      believe paid item even higher price received c...\n",
       "24                                               love cup\n",
       "25      love cup durable large great making iced coffe...\n",
       "26      really love cup friend knocked floor inner lin...\n",
       "27      love tumbler used make iced coffee green tea l...\n",
       "28      loved first super handy increased water consum...\n",
       "29         using right think want ever use drink anything\n",
       "                              ...                        \n",
       "1940    quest remember drink water large bpafree cup h...\n",
       "1941    wife working making sure drink proper amount w...\n",
       "1942    love zak designs hydratrak insulated tumbler f...\n",
       "1943    long time connesieur tervis bit skeptical real...\n",
       "1944    buy comes hole lip impossible drink without dr...\n",
       "1945    ordered help better drinking water like size s...\n",
       "1946    time chuck old plastic water bottle one insula...\n",
       "1947            love mine doesnt taste like plastic drink\n",
       "1948    love keeping track many times refill water bot...\n",
       "1949    beautiful cup honestly quite eyecatching garne...\n",
       "1950    zak tumblers like durable good cold insulation...\n",
       "1951                                   great water bottle\n",
       "1952    colored bands keep track many oz bottles finis...\n",
       "1953    fantastic cup design easy open snap lid back a...\n",
       "1954    great water bottle one double insulated sweat ...\n",
       "1955    hydra trak tumbler supposed make easier track ...\n",
       "1956    love cup well built great design rubber bands ...\n",
       "1957    mom arthritis hands lack grip caused drop thin...\n",
       "1958    bands neat addition nt know useful really even...\n",
       "1959    right get go knew tumbler going issuefirst dou...\n",
       "1960                                                 love\n",
       "1961    tumbler really nice tumbler wanting either con...\n",
       "1962    zaki designs hydra trak insulated tumbler colo...\n",
       "1963    excellent product keeps drink cold love bands ...\n",
       "1964                           little pricey neat concept\n",
       "1965    love nt religiously track water love bright co...\n",
       "1966    best water bottle ever love rings move keep tr...\n",
       "1967                   love cup keeping track daily water\n",
       "1968    drinking water healthy pretty much mantra ever...\n",
       "1969    overall zak designs hydratrak tumbler good pro...\n",
       "Name: ReviewText, Length: 1970, dtype: object"
      ]
     },
     "execution_count": 10,
     "metadata": {},
     "output_type": "execute_result"
    }
   ],
   "source": [
    "useful_data['ReviewText']"
   ]
  },
  {
   "cell_type": "code",
   "execution_count": 11,
   "metadata": {},
   "outputs": [],
   "source": [
    "from nltk.sentiment.vader import SentimentIntensityAnalyzer"
   ]
  },
  {
   "cell_type": "code",
   "execution_count": 12,
   "metadata": {},
   "outputs": [],
   "source": [
    "sid = SentimentIntensityAnalyzer()"
   ]
  },
  {
   "cell_type": "code",
   "execution_count": 13,
   "metadata": {},
   "outputs": [],
   "source": [
    "sentences = useful_data['ReviewText']"
   ]
  },
  {
   "cell_type": "code",
   "execution_count": 15,
   "metadata": {},
   "outputs": [],
   "source": [
    "sentiment = []\n",
    "for sentence in sentences:\n",
    "    ss = sid.polarity_scores(sentence)\n",
    "    max_value = 0\n",
    "    max_key = ''\n",
    "    ss.pop('compound',None)\n",
    "    for k, v in ss.items():\n",
    "        if v > max_value:\n",
    "            max_value = v\n",
    "            max_key = k\n",
    "    if max_key == 'neg':\n",
    "        max_value = \"-\" + str(max_value)\n",
    "        max_value = float(max_value)\n",
    "    if max_key == 'neu':\n",
    "        max_value = 0\n",
    "    sentiment.append(max_value)"
   ]
  },
  {
   "cell_type": "code",
   "execution_count": 16,
   "metadata": {},
   "outputs": [],
   "source": [
    "useful_data['Sentiments'] = pd.Series(sentiment)"
   ]
  },
  {
   "cell_type": "code",
   "execution_count": 20,
   "metadata": {},
   "outputs": [
    {
     "data": {
      "text/plain": [
       "ReviewProduct  Material   \n",
       "B0084IHVOS     Non-Eastman    0.235902\n",
       "B008BXWGR8     Eastman        0.211907\n",
       "B009ZHEG68     Non-Eastman    0.221646\n",
       "B00FALRU6Q     Non-Eastman    0.302139\n",
       "B00IR77KVK     Eastman        0.260567\n",
       "B00J5ASJS6     Non-Eastman    0.192552\n",
       "B00YOK11Z0     Eastman        0.120151\n",
       "Name: Sentiments, dtype: float64"
      ]
     },
     "execution_count": 20,
     "metadata": {},
     "output_type": "execute_result"
    }
   ],
   "source": [
    "useful_data.groupby(['ReviewProduct','Material'])['Sentiments'].mean()"
   ]
  },
  {
   "cell_type": "code",
   "execution_count": 21,
   "metadata": {},
   "outputs": [
    {
     "data": {
      "text/plain": [
       "Material\n",
       "Eastman        0.198266\n",
       "Non-Eastman    0.225556\n",
       "Name: Sentiments, dtype: float64"
      ]
     },
     "execution_count": 21,
     "metadata": {},
     "output_type": "execute_result"
    }
   ],
   "source": [
    "useful_data.groupby(['Material'])['Sentiments'].mean()"
   ]
  },
  {
   "cell_type": "code",
   "execution_count": null,
   "metadata": {},
   "outputs": [],
   "source": []
  }
 ],
 "metadata": {
  "kernelspec": {
   "display_name": "Python 3",
   "language": "python",
   "name": "python3"
  },
  "language_info": {
   "codemirror_mode": {
    "name": "ipython",
    "version": 3
   },
   "file_extension": ".py",
   "mimetype": "text/x-python",
   "name": "python",
   "nbconvert_exporter": "python",
   "pygments_lexer": "ipython3",
   "version": "3.7.1"
  }
 },
 "nbformat": 4,
 "nbformat_minor": 2
}
